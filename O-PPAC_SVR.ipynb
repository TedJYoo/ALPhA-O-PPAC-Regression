{
 "cells": [
  {
   "cell_type": "code",
   "execution_count": 1,
   "metadata": {},
   "outputs": [],
   "source": [
    "\"\"\"\n",
    "This Program Evaluates and Predicts O-PPAC data using a Support Vector Regression\n",
    "@author: Ted Yoo\n",
    "\"\"\"\n",
    "\n",
    "from sklearn.model_selection import train_test_split\n",
    "from sklearn.svm import SVR\n",
    "from sklearn.preprocessing import MinMaxScaler, StandardScaler\n",
    "from sklearn.metrics import mean_squared_error, mean_absolute_error\n",
    "import numpy as np\n",
    "import matplotlib.pyplot as plt\n",
    "import h5py"
   ]
  },
  {
   "cell_type": "code",
   "execution_count": 2,
   "metadata": {},
   "outputs": [],
   "source": [
    "# Takes (9,132,1011) dataset from Yassid and compiles it into a (9099,132) set.\n",
    "def data_compile(histdata, x_pos):\n",
    "    data = []\n",
    "    labels = []\n",
    "    for i in range(histdata.shape[0]):\n",
    "        #Starts at 1 because first event of each x-position has no charge recorded.\n",
    "        for j in range(1,histdata.shape[2]):\n",
    "            data.append(histdata[i,0:132,j])\n",
    "            labels.append(x_pos[i])\n",
    "    return(np.array(data),np.array(labels))"
   ]
  },
  {
   "cell_type": "code",
   "execution_count": 3,
   "metadata": {},
   "outputs": [],
   "source": [
    "#Scales Train and Test based on specified scaler_type\n",
    "def TT_scaler(scaler_type, train, test):\n",
    "    scaler_type.fit(train)\n",
    "    train = scaler_type.transform(train)\n",
    "    test = scaler_type.transform(test)\n",
    "    return (train, test)"
   ]
  },
  {
   "cell_type": "code",
   "execution_count": 4,
   "metadata": {},
   "outputs": [],
   "source": [
    "#Train SVR Model and Predict \n",
    "def SVR_Model(train_data, train_labels, test_data):\n",
    "    Model = SVR()\n",
    "    Model.fit(train_data, train_labels.ravel())\n",
    "    predictions = Model.predict(test_data)\n",
    "    return predictions"
   ]
  },
  {
   "cell_type": "code",
   "execution_count": 8,
   "metadata": {},
   "outputs": [],
   "source": [
    "def main():\n",
    "    #Extract data from h5 file\n",
    "    dataset = h5py.File('simu_HDF_new.h5', 'r')\n",
    "    num_diodes = dataset['Num_diodes'][...]\n",
    "    x_pos = (dataset['Xpos'][...])/100\n",
    "    y_pos = dataset['Ypos'][...]\n",
    "    histgrid = dataset['histgrid'][...]\n",
    "    dataset.close()\n",
    "    \n",
    "    #Defines Scalers used to scale inputs and outputs\n",
    "    input_scaler = MinMaxScaler()\n",
    "    output_scaler = StandardScaler()\n",
    "   \n",
    "    #Put Compile all data and their labels\n",
    "    all_data, all_labels = data_compile(histgrid, x_pos)\n",
    "\n",
    "    #Split Train, Validation and Test datasets\n",
    "    train_data, test_data, train_labels, test_labels = train_test_split(all_data, all_labels, test_size = 0.3, shuffle = True)\n",
    "\n",
    "    #Reshape Labels for Scaling\n",
    "    train_labels = train_labels.reshape(-1,1)\n",
    "    test_labels = test_labels.reshape(-1,1)\n",
    "\n",
    "    #Scale both Inputs and Outputs\n",
    "    train_data, test_data = TT_scaler(input_scaler, train_data, test_data)\n",
    "    train_labels, test_labels = TT_scaler(output_scaler, train_labels, test_labels)\n",
    "    \n",
    "    #Make predictions from SVR Model\n",
    "    predictions = SVR_Model(train_data, train_labels, test_data)\n",
    "    \n",
    "    #Inverse Transform scaled Labels and Predictions\n",
    "    test_rescale_labels = output_scaler.inverse_transform(test_labels)\n",
    "    predictions_rescale = output_scaler.inverse_transform(predictions)\n",
    "    \n",
    "    #Get Mean Absolute Error and Mean Square Error\n",
    "    mae = mean_absolute_error(test_labels, predictions)\n",
    "    mse = mean_squared_error(test_labels, predictions)\n",
    "    print(\"mean absolute error = \"+ str(mae) + \" mean square error = \"+ str(mse))\n",
    "    \n",
    "    #Plot Predictions vs True Values\n",
    "    a = plt.axes(aspect='equal')\n",
    "    plt.scatter(test_rescale_labels, predictions_rescale)\n",
    "    plt.xlabel('True Values')\n",
    "    plt.ylabel('Predictions')\n",
    "    lims = [-50, 50]\n",
    "    plt.xlim(lims)\n",
    "    plt.ylim(lims)\n",
    "    _ = plt.plot(lims, lims)\n",
    "    plt.title(\"SVR O-PPAC Predictions vs True Values\")"
   ]
  },
  {
   "cell_type": "code",
   "execution_count": 9,
   "metadata": {},
   "outputs": [
    {
     "name": "stdout",
     "output_type": "stream",
     "text": [
      "mean absolute error = 0.05290403577562493 mean square error = 0.0054661938400175246\n"
     ]
    },
    {
     "data": {
      "image/png": "[encoded data removed]",
      "text/plain": [
       "<Figure size 432x288 with 1 Axes>"
      ]
     },
     "metadata": {
      "needs_background": "light"
     },
     "output_type": "display_data"
    }
   ],
   "source": [
    "if __name__ == \"__main__\":\n",
    "    main()"
   ]
  },
  {
   "cell_type": "code",
   "execution_count": null,
   "metadata": {},
   "outputs": [],
   "source": []
  }
 ],
 "metadata": {
  "kernelspec": {
   "display_name": "Python 3",
   "language": "python",
   "name": "python3"
  },
  "language_info": {
   "codemirror_mode": {
    "name": "ipython",
    "version": 3
   },
   "file_extension": ".py",
   "mimetype": "text/x-python",
   "name": "python",
   "nbconvert_exporter": "python",
   "pygments_lexer": "ipython3",
   "version": "3.6.8"
  }
 },
 "nbformat": 4,
 "nbformat_minor": 4
}
