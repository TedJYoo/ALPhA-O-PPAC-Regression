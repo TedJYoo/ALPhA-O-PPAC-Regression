{
 "cells": [
  {
   "cell_type": "code",
   "execution_count": 5,
   "metadata": {},
   "outputs": [],
   "source": [
    "\"\"\"\n",
    "This Program Evaluates and Predicts O-PPAC data using a Support Vector Regression\n",
    "@author: Ted Yoo\n",
    "\"\"\"\n",
    "\n",
    "from sklearn.model_selection import train_test_split\n",
    "from sklearn.preprocessing import MinMaxScaler, StandardScaler\n",
    "from sklearn.metrics import mean_squared_error, mean_absolute_error\n",
    "import Modules as mod\n",
    "import numpy as np\n",
    "import matplotlib.pyplot as plt\n",
    "import h5py"
   ]
  },
  {
   "cell_type": "code",
   "execution_count": 6,
   "metadata": {},
   "outputs": [],
   "source": [
    "def main():\n",
    "    #Extract data from h5 file\n",
    "    dataset = h5py.File('simu_HDF_new.h5', 'r')\n",
    "    num_diodes = dataset['Num_diodes'][...]\n",
    "    x_pos = (dataset['Xpos'][...])/100\n",
    "    y_pos = dataset['Ypos'][...]\n",
    "    histgrid = dataset['histgrid'][...]\n",
    "    dataset.close()\n",
    "    \n",
    "    #Defines Scalers used to scale inputs and outputs\n",
    "    input_scaler = MinMaxScaler()\n",
    "    output_scaler = StandardScaler()\n",
    "   \n",
    "    #Put Compile all data and their labels\n",
    "    all_data, all_labels = mod.data_compile(histgrid, x_pos)\n",
    "\n",
    "    #Split Train, Validation and Test datasets\n",
    "    train_data, test_data, train_labels, test_labels = train_test_split(all_data, all_labels, test_size = 0.3, shuffle = True)\n",
    "\n",
    "    #Reshape Labels for Scaling\n",
    "    train_labels = train_labels.reshape(-1,1)\n",
    "    test_labels = test_labels.reshape(-1,1)\n",
    "\n",
    "    #Scale both Inputs and Outputs\n",
    "    train_data, test_data = mod.TT_scaler(input_scaler, train_data, test_data)\n",
    "    train_labels, test_labels = mod.TT_scaler(output_scaler, train_labels, test_labels)\n",
    "    \n",
    "    #Make predictions from SVR Model\n",
    "    predictions = mod.SVR_Model(train_data, train_labels, test_data)\n",
    "    \n",
    "    #Inverse Transform scaled Labels and Predictions\n",
    "    test_rescale_labels = output_scaler.inverse_transform(test_labels)\n",
    "    predictions_rescale = output_scaler.inverse_transform(predictions)\n",
    "    \n",
    "    #Get Mean Absolute Error and Mean Square Error\n",
    "    mae = mean_absolute_error(test_labels, predictions)\n",
    "    mse = mean_squared_error(test_labels, predictions)\n",
    "    print(\"mean absolute error = \"+ str(mae) + \" mean square error = \"+ str(mse))\n",
    "    \n",
    "    #Plot Predictions vs True Values\n",
    "    a = plt.axes(aspect='equal')\n",
    "    plt.scatter(test_rescale_labels, predictions_rescale)\n",
    "    plt.xlabel('True Values')\n",
    "    plt.ylabel('Predictions')\n",
    "    lims = [-50, 50]\n",
    "    plt.xlim(lims)\n",
    "    plt.ylim(lims)\n",
    "    _ = plt.plot(lims, lims)\n",
    "    plt.title(\"SVR O-PPAC Predictions vs True Values\")"
   ]
  },
  {
   "cell_type": "code",
   "execution_count": 7,
   "metadata": {},
   "outputs": [
    {
     "name": "stdout",
     "output_type": "stream",
     "text": [
      "mean absolute error = 0.05118846720543142 mean square error = 0.004901165253873573\n"
     ]
    },
    {
     "data": {
      "image/png": "[encoded data removed]",
      "text/plain": [
       "<Figure size 432x288 with 1 Axes>"
      ]
     },
     "metadata": {
      "needs_background": "light"
     },
     "output_type": "display_data"
    }
   ],
   "source": [
    "if __name__ == \"__main__\":\n",
    "    main()"
   ]
  },
  {
   "cell_type": "code",
   "execution_count": null,
   "metadata": {},
   "outputs": [],
   "source": []
  }
 ],
 "metadata": {
  "kernelspec": {
   "display_name": "Python 3",
   "language": "python",
   "name": "python3"
  },
  "language_info": {
   "codemirror_mode": {
    "name": "ipython",
    "version": 3
   },
   "file_extension": ".py",
   "mimetype": "text/x-python",
   "name": "python",
   "nbconvert_exporter": "python",
   "pygments_lexer": "ipython3",
   "version": "3.6.8"
  }
 },
 "nbformat": 4,
 "nbformat_minor": 4
}
